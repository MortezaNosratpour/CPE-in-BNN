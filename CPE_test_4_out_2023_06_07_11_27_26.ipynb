{
  "cells": [
    {
      "cell_type": "code",
      "execution_count": null,
      "metadata": {
        "colab": {
          "base_uri": "https://localhost:8080/"
        },
        "execution": {
          "iopub.execute_input": "2023-06-07T08:27:31.990074Z",
          "iopub.status.busy": "2023-06-07T08:27:31.989244Z",
          "iopub.status.idle": "2023-06-07T08:27:38.000425Z",
          "shell.execute_reply": "2023-06-07T08:27:37.999177Z"
        },
        "id": "k4uoYcMv-667",
        "outputId": "f0bdd0fe-f7c1-4a81-b6f2-456f2f793bba"
      },
      "outputs": [
        {
          "name": "stdout",
          "output_type": "stream",
          "text": [
            "fatal: destination path 'bayesian-neural-network-pytorch' already exists and is not an empty directory.\r\n",
            "Defaulting to user installation because normal site-packages is not writeable\r\n",
            "Requirement already satisfied: torchbnn in /home/chengg1/.local/lib/python3.10/site-packages (1.2)\r\n"
          ]
        }
      ],
      "source": [
        "!git clone https://github.com/Harry24k/bayesian-neural-network-pytorch\n",
        "!pip install torchbnn"
      ]
    },
    {
      "cell_type": "code",
      "execution_count": null,
      "metadata": {
        "colab": {
          "base_uri": "https://localhost:8080/"
        },
        "execution": {
          "iopub.execute_input": "2023-06-07T08:27:38.006729Z",
          "iopub.status.busy": "2023-06-07T08:27:38.006070Z",
          "iopub.status.idle": "2023-06-07T08:27:57.139804Z",
          "shell.execute_reply": "2023-06-07T08:27:57.139043Z"
        },
        "id": "D9m7j_LT4KYp",
        "outputId": "87a619d6-f030-4503-e612-ad63b587483d"
      },
      "outputs": [
        {
          "name": "stdout",
          "output_type": "stream",
          "text": [
            "fatal: destination path 'NPEET' already exists and is not an empty directory.\r\n",
            "Defaulting to user installation because normal site-packages is not writeable\r\n",
            "Processing ./NPEET\r\n",
            "  Installing build dependencies ... \u001b[?25l-\b \b\\\b \b|\b \bdone\r\n",
            "\u001b[?25h  Getting requirements to build wheel ... \u001b[?25l-\b \bdone\r\n",
            "\u001b[?25h  Installing backend dependencies ... \u001b[?25l-\b \b\\\b \bdone\r\n",
            "\u001b[?25h  Preparing metadata (pyproject.toml) ... \u001b[?25l-\b \bdone\r\n",
            "\u001b[?25hRequirement already satisfied: scipy in /share/apps/anaconda-ci/fgci-centos7-anaconda/software/anaconda/2023-01/2eea7963/lib/python3.10/site-packages (from NPEET==1.0.1) (1.10.1)\r\n",
            "Requirement already satisfied: scikit-learn in /home/chengg1/.local/lib/python3.10/site-packages (from NPEET==1.0.1) (1.2.2)\r\n",
            "Requirement already satisfied: numpy in /share/apps/anaconda-ci/fgci-centos7-anaconda/software/anaconda/2023-01/2eea7963/lib/python3.10/site-packages (from NPEET==1.0.1) (1.23.5)\r\n",
            "Requirement already satisfied: threadpoolctl>=2.0.0 in /share/apps/anaconda-ci/fgci-centos7-anaconda/software/anaconda/2023-01/2eea7963/lib/python3.10/site-packages (from scikit-learn->NPEET==1.0.1) (3.1.0)\r\n",
            "Requirement already satisfied: joblib>=1.1.1 in /share/apps/anaconda-ci/fgci-centos7-anaconda/software/anaconda/2023-01/2eea7963/lib/python3.10/site-packages (from scikit-learn->NPEET==1.0.1) (1.2.0)\r\n",
            "Building wheels for collected packages: NPEET\r\n",
            "  Building wheel for NPEET (pyproject.toml) ... \u001b[?25l-\b \bdone\r\n",
            "\u001b[?25h  Created wheel for NPEET: filename=NPEET-1.0.1-py3-none-any.whl size=7347 sha256=562a343c391effbcf35a4c383be3c1ef3d7393281fb8d2ed8ee816ce9ccbf42f\r\n",
            "  Stored in directory: /tmp/pip-ephem-wheel-cache-p52w5ag_/wheels/24/f4/81/b6ce4d8fdb916c92a29193394ce48f98745a0cc8814661d54e\r\n",
            "Successfully built NPEET\r\n",
            "Installing collected packages: NPEET\r\n",
            "  Attempting uninstall: NPEET\r\n",
            "    Found existing installation: NPEET 1.0.1\r\n",
            "    Uninstalling NPEET-1.0.1:\r\n",
            "      Successfully uninstalled NPEET-1.0.1\r\n",
            "Successfully installed NPEET-1.0.1\r\n"
          ]
        }
      ],
      "source": [
        "!git clone https://github.com/gregversteeg/NPEET.git\n",
        "!pip install NPEET/."
      ]
    },
    {
      "cell_type": "code",
      "execution_count": null,
      "metadata": {
        "execution": {
          "iopub.execute_input": "2023-06-07T08:27:57.143715Z",
          "iopub.status.busy": "2023-06-07T08:27:57.143454Z",
          "iopub.status.idle": "2023-06-07T08:28:00.171444Z",
          "shell.execute_reply": "2023-06-07T08:28:00.170764Z"
        },
        "id": "cYdR5vHSpG-_"
      },
      "outputs": [],
      "source": [
        "import torchbnn\n",
        "import torch\n",
        "import torchvision\n",
        "import torch.nn as nn\n",
        "import torch.optim as optim\n",
        "import torch.nn.functional as f\n",
        "import torchvision.datasets as datasets\n",
        "import torchvision.transforms as transforms\n",
        "from torchvision.transforms import ToTensor\n",
        "\n",
        "import numpy as np\n",
        "import torchbnn as bnn\n",
        "import math\n",
        "import random\n",
        "import matplotlib.pyplot as plt\n",
        "from tqdm import tqdm\n"
      ]
    },
    {
      "cell_type": "markdown",
      "metadata": {
        "id": "Ck-L6xYXcRLn"
      },
      "source": [
        "# Configuration and Hyperparameters"
      ]
    },
    {
      "cell_type": "code",
      "execution_count": null,
      "metadata": {
        "execution": {
          "iopub.execute_input": "2023-06-07T08:28:00.176011Z",
          "iopub.status.busy": "2023-06-07T08:28:00.174911Z",
          "iopub.status.idle": "2023-06-07T08:28:00.180092Z",
          "shell.execute_reply": "2023-06-07T08:28:00.179557Z"
        },
        "id": "-DeNa5b0cZE3"
      },
      "outputs": [],
      "source": [
        "# Check Device configuration\n",
        "device = torch.device('cuda' if torch.cuda.is_available() else 'cpu')\n",
        "\n",
        "# Define Hyper-parameters\n",
        "input_size = 784\n",
        "hidden_size = 500\n",
        "num_classes = 10\n",
        "num_epochs = 5\n",
        "batch_size = 1 # batch size must be equal to 1 in this notebook\n",
        "learning_rate = 0.001\n"
      ]
    },
    {
      "cell_type": "markdown",
      "metadata": {
        "id": "A0cIptQVqpDN"
      },
      "source": [
        "# Load MNIST Dataset"
      ]
    },
    {
      "cell_type": "code",
      "execution_count": null,
      "metadata": {
        "colab": {
          "base_uri": "https://localhost:8080/",
          "referenced_widgets": [
            "894dd73ccf7d4bbb87058ef558f3d8c9",
            "68b979c8a5a7472581b42d013493f5b0",
            "89aab9e931ce45f19450f941c12faa6f",
            "7813267f775c4c9b9bec880e9c75ece6"
          ]
        },
        "execution": {
          "iopub.execute_input": "2023-06-07T08:28:00.183989Z",
          "iopub.status.busy": "2023-06-07T08:28:00.182981Z",
          "iopub.status.idle": "2023-06-07T08:28:01.146380Z",
          "shell.execute_reply": "2023-06-07T08:28:01.145714Z"
        },
        "id": "1kZqxgPib8gi",
        "outputId": "084646e6-ea9e-4091-f2d6-80a30eed381c"
      },
      "outputs": [
        {
          "name": "stdout",
          "output_type": "stream",
          "text": [
            "Downloading http://yann.lecun.com/exdb/mnist/train-images-idx3-ubyte.gz\n",
            "Downloading http://yann.lecun.com/exdb/mnist/train-images-idx3-ubyte.gz to data/MNIST/raw/train-images-idx3-ubyte.gz\n"
          ]
        },
        {
          "data": {
            "application/vnd.jupyter.widget-view+json": {
              "model_id": "894dd73ccf7d4bbb87058ef558f3d8c9",
              "version_major": 2,
              "version_minor": 0
            },
            "text/plain": [
              "  0%|          | 0/9912422 [00:00<?, ?it/s]"
            ]
          },
          "metadata": {},
          "output_type": "display_data"
        },
        {
          "name": "stdout",
          "output_type": "stream",
          "text": [
            "Extracting data/MNIST/raw/train-images-idx3-ubyte.gz to data/MNIST/raw\n",
            "\n",
            "Downloading http://yann.lecun.com/exdb/mnist/train-labels-idx1-ubyte.gz\n",
            "Downloading http://yann.lecun.com/exdb/mnist/train-labels-idx1-ubyte.gz to data/MNIST/raw/train-labels-idx1-ubyte.gz\n"
          ]
        },
        {
          "data": {
            "application/vnd.jupyter.widget-view+json": {
              "model_id": "68b979c8a5a7472581b42d013493f5b0",
              "version_major": 2,
              "version_minor": 0
            },
            "text/plain": [
              "  0%|          | 0/28881 [00:00<?, ?it/s]"
            ]
          },
          "metadata": {},
          "output_type": "display_data"
        },
        {
          "name": "stdout",
          "output_type": "stream",
          "text": [
            "Extracting data/MNIST/raw/train-labels-idx1-ubyte.gz to data/MNIST/raw\n",
            "\n",
            "Downloading http://yann.lecun.com/exdb/mnist/t10k-images-idx3-ubyte.gz\n",
            "Downloading http://yann.lecun.com/exdb/mnist/t10k-images-idx3-ubyte.gz to data/MNIST/raw/t10k-images-idx3-ubyte.gz\n"
          ]
        },
        {
          "data": {
            "application/vnd.jupyter.widget-view+json": {
              "model_id": "89aab9e931ce45f19450f941c12faa6f",
              "version_major": 2,
              "version_minor": 0
            },
            "text/plain": [
              "  0%|          | 0/1648877 [00:00<?, ?it/s]"
            ]
          },
          "metadata": {},
          "output_type": "display_data"
        },
        {
          "name": "stdout",
          "output_type": "stream",
          "text": [
            "Extracting data/MNIST/raw/t10k-images-idx3-ubyte.gz to data/MNIST/raw\n",
            "\n",
            "Downloading http://yann.lecun.com/exdb/mnist/t10k-labels-idx1-ubyte.gz\n",
            "Downloading http://yann.lecun.com/exdb/mnist/t10k-labels-idx1-ubyte.gz to data/MNIST/raw/t10k-labels-idx1-ubyte.gz\n"
          ]
        },
        {
          "data": {
            "application/vnd.jupyter.widget-view+json": {
              "model_id": "7813267f775c4c9b9bec880e9c75ece6",
              "version_major": 2,
              "version_minor": 0
            },
            "text/plain": [
              "  0%|          | 0/4542 [00:00<?, ?it/s]"
            ]
          },
          "metadata": {},
          "output_type": "display_data"
        },
        {
          "name": "stdout",
          "output_type": "stream",
          "text": [
            "Extracting data/MNIST/raw/t10k-labels-idx1-ubyte.gz to data/MNIST/raw\n",
            "\n"
          ]
        }
      ],
      "source": [
        "# MNIST dataset\n",
        "train_dataset = torchvision.datasets.MNIST(root='data',\n",
        "                                           train=True,\n",
        "                                           transform=transforms.ToTensor(),\n",
        "                                           download=True)\n",
        "\n",
        "test_dataset = torchvision.datasets.MNIST(root='data',\n",
        "                                          train=False,\n",
        "                                          transform=transforms.ToTensor())\n",
        "\n",
        "# Data loader\n",
        "train_loader = torch.utils.data.DataLoader(dataset=train_dataset,\n",
        "                                           batch_size=batch_size,\n",
        "                                           shuffle=True)\n",
        "\n",
        "test_loader = torch.utils.data.DataLoader(dataset=test_dataset,\n",
        "                                          batch_size=batch_size,\n",
        "                                          shuffle=False)"
      ]
    },
    {
      "cell_type": "markdown",
      "metadata": {
        "id": "_e7UJQgIgG2d"
      },
      "source": [
        "# Model Classes"
      ]
    },
    {
      "cell_type": "code",
      "execution_count": null,
      "metadata": {
        "execution": {
          "iopub.execute_input": "2023-06-07T08:28:01.150852Z",
          "iopub.status.busy": "2023-06-07T08:28:01.149831Z",
          "iopub.status.idle": "2023-06-07T08:28:01.155417Z",
          "shell.execute_reply": "2023-06-07T08:28:01.154880Z"
        },
        "id": "v1R3U91agOlw"
      },
      "outputs": [],
      "source": [
        "# Fully connected neural network\n",
        "class NeuralNet(nn.Module):\n",
        "    def __init__(self, input_size, hidden_size, num_classes):\n",
        "        super(NeuralNet, self).__init__()\n",
        "        self.fc1 = nn.Linear(input_size, hidden_size)\n",
        "        self.relu = nn.ReLU()\n",
        "        self.fc2 = nn.Linear(hidden_size, num_classes)\n",
        "\n",
        "    def forward(self, x):\n",
        "        out = self.fc1(x)\n",
        "        out = self.relu(out)\n",
        "        out = self.fc2(out)\n",
        "        return out"
      ]
    },
    {
      "cell_type": "code",
      "execution_count": null,
      "metadata": {
        "execution": {
          "iopub.execute_input": "2023-06-07T08:28:01.159259Z",
          "iopub.status.busy": "2023-06-07T08:28:01.158246Z",
          "iopub.status.idle": "2023-06-07T08:28:01.163975Z",
          "shell.execute_reply": "2023-06-07T08:28:01.163427Z"
        },
        "id": "BgyT1QJllH4e"
      },
      "outputs": [],
      "source": [
        "# Bayesian neural network\n",
        "class BayesianNeuralNet(nn.Module):\n",
        "      def __init__(self, input_size, hidden_size, num_classes):\n",
        "        super(BayesianNeuralNet, self).__init__()\n",
        "        self.fc1 = bnn.BayesLinear(prior_mu=0, prior_sigma=0.1, in_features=input_size, out_features=hidden_size)\n",
        "        self.relu = nn.ReLU()\n",
        "        self.fc2 = bnn.BayesLinear(prior_mu=0, prior_sigma=0.1, in_features=hidden_size, out_features=num_classes)\n",
        "\n",
        "      def forward(self, x):\n",
        "        out = self.fc1(x)\n",
        "        out = self.relu(out)\n",
        "        out = self.fc2(out)\n",
        "        return out"
      ]
    },
    {
      "cell_type": "code",
      "execution_count": null,
      "metadata": {
        "execution": {
          "iopub.execute_input": "2023-06-07T08:28:01.167752Z",
          "iopub.status.busy": "2023-06-07T08:28:01.166746Z",
          "iopub.status.idle": "2023-06-07T08:28:01.174846Z",
          "shell.execute_reply": "2023-06-07T08:28:01.174294Z"
        },
        "id": "xj08KXyLgkki"
      },
      "outputs": [],
      "source": [
        "fc_model = NeuralNet(input_size, hidden_size, num_classes).to(device)"
      ]
    },
    {
      "cell_type": "code",
      "execution_count": null,
      "metadata": {
        "execution": {
          "iopub.execute_input": "2023-06-07T08:28:01.178658Z",
          "iopub.status.busy": "2023-06-07T08:28:01.177656Z",
          "iopub.status.idle": "2023-06-07T08:28:01.185597Z",
          "shell.execute_reply": "2023-06-07T08:28:01.185054Z"
        },
        "id": "Cbrz18m9tCM7"
      },
      "outputs": [],
      "source": [
        "bayes_model = BayesianNeuralNet(input_size, hidden_size, num_classes).to(device)"
      ]
    },
    {
      "cell_type": "markdown",
      "metadata": {
        "id": "v4IDIj0OgcFi"
      },
      "source": [
        "# Loss and Optimizers"
      ]
    },
    {
      "cell_type": "code",
      "execution_count": null,
      "metadata": {
        "execution": {
          "iopub.execute_input": "2023-06-07T08:28:01.189506Z",
          "iopub.status.busy": "2023-06-07T08:28:01.188505Z",
          "iopub.status.idle": "2023-06-07T08:28:01.193475Z",
          "shell.execute_reply": "2023-06-07T08:28:01.192940Z"
        },
        "id": "jkRH4boIggOA"
      },
      "outputs": [],
      "source": [
        "# Loss and optimizer\n",
        "def opt_cri_loss_setter(model):\n",
        "  criterion = nn.CrossEntropyLoss()\n",
        "  kl_loss = bnn.BKLLoss(reduction='mean', last_layer_only=False)\n",
        "  fc_optimizer = torch.optim.Adam(model.parameters(), lr=learning_rate)\n",
        "  bayes_optimizer = torch.optim.Adam(model.parameters(), lr=learning_rate)\n",
        "\n",
        "  return fc_optimizer, bayes_optimizer, criterion, kl_loss\n"
      ]
    },
    {
      "cell_type": "code",
      "execution_count": null,
      "metadata": {
        "execution": {
          "iopub.execute_input": "2023-06-07T08:28:01.197447Z",
          "iopub.status.busy": "2023-06-07T08:28:01.196444Z",
          "iopub.status.idle": "2023-06-07T08:28:01.202285Z",
          "shell.execute_reply": "2023-06-07T08:28:01.201734Z"
        },
        "id": "b1fUxAi0AJof"
      },
      "outputs": [],
      "source": [
        "fc_opt, _, fc_criterion, _ = opt_cri_loss_setter(fc_model)\n",
        "_, bayes_opt, bayes_criterion, kl_loss = opt_cri_loss_setter(bayes_model)"
      ]
    },
    {
      "cell_type": "markdown",
      "metadata": {
        "id": "vVPgQWjTg6p4"
      },
      "source": [
        "# Plot the Loss"
      ]
    },
    {
      "cell_type": "code",
      "execution_count": null,
      "metadata": {
        "execution": {
          "iopub.execute_input": "2023-06-07T08:28:01.206150Z",
          "iopub.status.busy": "2023-06-07T08:28:01.205142Z",
          "iopub.status.idle": "2023-06-07T08:28:01.210613Z",
          "shell.execute_reply": "2023-06-07T08:28:01.210081Z"
        },
        "id": "S2VwgdrIidkr"
      },
      "outputs": [],
      "source": [
        "def loss_plot(losses, x_label, y_label, title):\n",
        "  k = len(losses)/1000\n",
        "  tmp_losses = []\n",
        "\n",
        "  for i in range(int(k)):\n",
        "    tmp_losses.append(np.array(losses[i*1000:(i+1)*1000]).mean())\n",
        "\n",
        "\n",
        "  plt.xlabel(x_label)\n",
        "  plt.ylabel(y_label)\n",
        "  plt.title(title)\n",
        "  plt.plot(np.arange(1000, (len(tmp_losses)+1)*1000, 1000), np.array(tmp_losses))\n",
        "  plt.show()"
      ]
    },
    {
      "cell_type": "markdown",
      "metadata": {
        "id": "JFiqUpF7rpLB"
      },
      "source": [
        "# Test Function with Clean Images"
      ]
    },
    {
      "cell_type": "code",
      "execution_count": null,
      "metadata": {
        "execution": {
          "iopub.execute_input": "2023-06-07T08:28:01.214467Z",
          "iopub.status.busy": "2023-06-07T08:28:01.213468Z",
          "iopub.status.idle": "2023-06-07T08:28:01.219154Z",
          "shell.execute_reply": "2023-06-07T08:28:01.218611Z"
        },
        "id": "G7ZPDrTgrsZK"
      },
      "outputs": [],
      "source": [
        "# In the test phase, don't need to compute gradients (for memory efficiency)\n",
        "def model_tester(model, name):\n",
        "  with torch.no_grad():\n",
        "      correct = 0\n",
        "      total = 0\n",
        "      for images, labels in test_loader:\n",
        "          images = images.reshape(-1, 28*28).to(device)\n",
        "          labels = labels.to(device)\n",
        "          outputs = model(images)\n",
        "          _, predicted = torch.max(outputs.data, 1)\n",
        "          total += labels.size(0)\n",
        "          correct += (predicted == labels).sum().item()\n",
        "\n",
        "      print('Accuracy of the ' + name + ' network on the 10000 test images: {} %'.format(100 * correct / total))\n",
        "\n",
        "  # Save the model checkpoint\n",
        "  # torch.save(model.state_dict(), str(name+'.ckpt'))"
      ]
    },
    {
      "cell_type": "markdown",
      "metadata": {
        "id": "qpPdrOPurH5v"
      },
      "source": [
        "# Cold Posterior Effect in Bayesian Neural Networks"
      ]
    },
    {
      "cell_type": "markdown",
      "metadata": {
        "id": "G7IvKC4d5CVF"
      },
      "source": [
        "### Mutual Information Among Images"
      ]
    },
    {
      "cell_type": "code",
      "execution_count": null,
      "metadata": {
        "execution": {
          "iopub.execute_input": "2023-06-07T08:28:01.223036Z",
          "iopub.status.busy": "2023-06-07T08:28:01.222036Z",
          "iopub.status.idle": "2023-06-07T08:28:02.141324Z",
          "shell.execute_reply": "2023-06-07T08:28:02.140669Z"
        },
        "id": "9wnAYTL65Z4k"
      },
      "outputs": [],
      "source": [
        "from npeet import entropy_estimators as ee\n",
        "\n",
        "def mutual_info_calculator(image1, image2):\n",
        "  return ee.mi(image1, image2)"
      ]
    },
    {
      "cell_type": "markdown",
      "metadata": {
        "id": "gUowij0E52FH"
      },
      "source": [
        "### Data Augmentation"
      ]
    },
    {
      "cell_type": "code",
      "execution_count": null,
      "metadata": {
        "execution": {
          "iopub.execute_input": "2023-06-07T08:28:02.145886Z",
          "iopub.status.busy": "2023-06-07T08:28:02.144761Z",
          "iopub.status.idle": "2023-06-07T08:28:02.151042Z",
          "shell.execute_reply": "2023-06-07T08:28:02.150501Z"
        },
        "id": "ZHAo8ltMrr8F"
      },
      "outputs": [],
      "source": [
        "from torchvision.transforms.autoaugment import AutoAugmentPolicy\n",
        "# An Augmentation policy that used for CIFAR10 to produce augmented images\n",
        "\n",
        "torch.manual_seed(38)\n",
        "auto_aug_policy = transforms.Compose([\n",
        "                    transforms.AutoAugment(AutoAugmentPolicy.CIFAR10),\n",
        "                    transforms.ToTensor(),\n",
        "                ])"
      ]
    },
    {
      "cell_type": "code",
      "execution_count": null,
      "metadata": {
        "execution": {
          "iopub.execute_input": "2023-06-07T08:28:02.154850Z",
          "iopub.status.busy": "2023-06-07T08:28:02.153845Z",
          "iopub.status.idle": "2023-06-07T08:28:02.159812Z",
          "shell.execute_reply": "2023-06-07T08:28:02.159281Z"
        },
        "id": "XfmgVNSU0114"
      },
      "outputs": [],
      "source": [
        "# Tranformation from tensor to PIL image due to applying AutoAugmentation\n",
        "trans_t2PIL = transforms.ToPILImage()\n",
        "\n",
        "# Produce n augmented images from a clean image and associates its mutual info with clean image to it\n",
        "def augmented_data_producer(clean_image, n):\n",
        "  image = trans_t2PIL(clean_image)\n",
        "  augmented_images = []\n",
        "  mi = []\n",
        "  clean_image_mi = mutual_info_calculator(clean_image.numpy().reshape(28, 28).tolist(), clean_image.numpy().reshape(28, 28).tolist())\n",
        "  augmented_images.append(clean_image)\n",
        "  mi.append(clean_image_mi/clean_image_mi)\n",
        "\n",
        "  for i in range(1, n):\n",
        "    augmented_images.append(auto_aug_policy(image))\n",
        "    mi.append(mutual_info_calculator(clean_image.numpy().reshape(28, 28).tolist(), augmented_images[i].numpy().reshape(28, 28).tolist())/clean_image_mi)\n",
        "  return augmented_images, mi"
      ]
    },
    {
      "cell_type": "markdown",
      "metadata": {
        "id": "nAPsVVzPvbfd"
      },
      "source": [
        "# Train the Model Icorporating Data Augmentation\n",
        "\n",
        "\n"
      ]
    },
    {
      "cell_type": "code",
      "execution_count": null,
      "metadata": {
        "execution": {
          "iopub.execute_input": "2023-06-07T08:28:02.163864Z",
          "iopub.status.busy": "2023-06-07T08:28:02.162707Z",
          "iopub.status.idle": "2023-06-07T08:28:02.178222Z",
          "shell.execute_reply": "2023-06-07T08:28:02.177582Z"
        },
        "id": "R4HipzZeHbGj"
      },
      "outputs": [],
      "source": [
        "fc_mean_mi_model = NeuralNet(input_size, hidden_size, num_classes).to(device)\n",
        "fc_mean_mi_optimizer, _, fc_mean_mi_criterion, _ = opt_cri_loss_setter(fc_mean_mi_model)\n",
        "\n",
        "bayes_aug_model = BayesianNeuralNet(input_size, hidden_size, num_classes).to(device)\n",
        "_, bayes_aug_optimizer, bayes_aug_criterion, kl_loss_aug = opt_cri_loss_setter(bayes_aug_model)\n"
      ]
    },
    {
      "cell_type": "code",
      "execution_count": null,
      "metadata": {
        "execution": {
          "iopub.execute_input": "2023-06-07T08:28:02.182639Z",
          "iopub.status.busy": "2023-06-07T08:28:02.181627Z",
          "iopub.status.idle": "2023-06-07T08:28:02.192538Z",
          "shell.execute_reply": "2023-06-07T08:28:02.192005Z"
        },
        "id": "mC9vH4uowe8u"
      },
      "outputs": [],
      "source": [
        "def model_trainer_incorporating_DA(model, criterion, optimizer, kl_loss=kl_loss, kl_weight = 0.01, CPE=False, HPE=False, fixed_T=False, T=0.01, bayesian=False, number_of_augmentations=20):\n",
        "  total_step = len(train_loader)\n",
        "  losses = []\n",
        "  cumulative_loss = 0\n",
        "  for epoch in range(num_epochs):\n",
        "      for i, (image, label) in tqdm(enumerate(train_loader)):\n",
        "          # Produce n augmented images for each image in dataset\n",
        "          augmented_images, mutual_info = augmented_data_producer(image.reshape(1, 28, 28), number_of_augmentations)\n",
        "\n",
        "          # Move tensors to the configured device\n",
        "          clean_images = image.reshape(-1, 28*28).to(device)\n",
        "          label = label.to(device)\n",
        "\n",
        "          # Forward pass for each augmented image of clean image\n",
        "          for augmented_image, mi in zip(augmented_images, mutual_info):\n",
        "            img = augmented_image.reshape(-1, 28*28).to(device)\n",
        "            m_i = torch.tensor(mi).to(device)\n",
        "            outputs = model(img)\n",
        "\n",
        "            # If T is not a predefined value, then according to CPE, HPE, bayesian loss will be one of the following values:\n",
        "            if not fixed_T:\n",
        "              if not bayesian and not CPE and not HPE:\n",
        "                loss = criterion(outputs, label)\n",
        "              elif not bayesian and CPE and not HPE:\n",
        "                loss = torch.pow(criterion(outputs, label),(1./m_i))\n",
        "              elif not bayesian and not CPE and HPE:\n",
        "                loss = torch.pow(criterion(outputs, label),m_i)\n",
        "              elif bayesian and not CPE and not HPE:\n",
        "                loss = criterion(outputs, label) + (kl_weight*kl_loss(model))\n",
        "              elif bayesian and CPE and not HPE:\n",
        "                loss = torch.pow(criterion(outputs, label),(1./m_i)) + (kl_weight*kl_loss(model))\n",
        "              elif bayesian and not CPE and HPE:\n",
        "                loss = torch.pow(criterion(outputs, label), m_i) + (kl_weight*kl_loss(model))\n",
        "\n",
        "            # if the T is a predefined value:\n",
        "            elif fixed_T:\n",
        "              if not bayesian:\n",
        "                loss = torch.pow(criterion(outputs, label),(1./T))\n",
        "              elif bayesian:\n",
        "                loss = torch.pow(criterion(outputs, label),(1./T)) + (kl_weight*kl_loss(model))\n",
        "\n",
        "            cumulative_loss += loss.item()\n",
        "\n",
        "            # Backprpagation and optimization\n",
        "            optimizer.zero_grad()\n",
        "            loss.backward()\n",
        "            optimizer.step()\n",
        "\n",
        "          if (i+1) % batch_size == 0:\n",
        "              # print ('Epoch [{}/{}], Step [{}/{}], Loss: {:.4f}'\n",
        "              #       .format(epoch+1, num_epochs, i+1, total_step, loss.item()))\n",
        "              losses.append(cumulative_loss/number_of_augmentations)\n",
        "              cumulative_loss = 0\n",
        "      print ('Epoch [{}/{}], Average Loss: {:.4f}'\n",
        "                    .format(epoch+1, num_epochs, np.array(losses[epoch*total_step:(epoch+1)*total_step]).mean()))\n",
        "\n",
        "  return losses"
      ]
    },
    {
      "cell_type": "code",
      "execution_count": null,
      "metadata": {
        "execution": {
          "iopub.execute_input": "2023-06-07T08:28:02.196356Z",
          "iopub.status.busy": "2023-06-07T08:28:02.195357Z",
          "iopub.status.idle": "2023-06-08T08:14:44.610900Z",
          "shell.execute_reply": "2023-06-08T08:14:44.610080Z"
        },
        "id": "0ZSyHl0ILIEs",
        "outputId": "59cc1204-0758-4a5d-a45f-4d1f8eb0eefb"
      },
      "outputs": [
        {
          "name": "stderr",
          "output_type": "stream",
          "text": [
            "60000it [5:09:02,  3.24it/s]\n"
          ]
        },
        {
          "name": "stdout",
          "output_type": "stream",
          "text": [
            "Epoch [1/5], Average Loss: 205914598.9402\n"
          ]
        },
        {
          "name": "stderr",
          "output_type": "stream",
          "text": [
            "60000it [4:54:41,  3.39it/s]\n"
          ]
        },
        {
          "name": "stdout",
          "output_type": "stream",
          "text": [
            "Epoch [2/5], Average Loss: 2481542166.8149\n"
          ]
        },
        {
          "name": "stderr",
          "output_type": "stream",
          "text": [
            "60000it [4:48:17,  3.47it/s]\n"
          ]
        },
        {
          "name": "stdout",
          "output_type": "stream",
          "text": [
            "Epoch [3/5], Average Loss: 3314557312.1659\n"
          ]
        },
        {
          "name": "stderr",
          "output_type": "stream",
          "text": [
            "60000it [4:25:02,  3.77it/s]\n"
          ]
        },
        {
          "name": "stdout",
          "output_type": "stream",
          "text": [
            "Epoch [4/5], Average Loss: 4867823228.5574\n"
          ]
        },
        {
          "name": "stderr",
          "output_type": "stream",
          "text": [
            "60000it [4:29:38,  3.71it/s]"
          ]
        },
        {
          "name": "stdout",
          "output_type": "stream",
          "text": [
            "Epoch [5/5], Average Loss: 7866714016.7410\n"
          ]
        },
        {
          "name": "stderr",
          "output_type": "stream",
          "text": [
            "\n"
          ]
        }
      ],
      "source": [
        "fc_mean_mi_losses = model_trainer_incorporating_DA(fc_mean_mi_model, fc_mean_mi_criterion, fc_mean_mi_optimizer, kl_weight=1, CPE=False, HPE=False, fixed_T=True, T=0.25, bayesian=False, number_of_augmentations=20)"
      ]
    },
    {
      "cell_type": "code",
      "execution_count": null,
      "metadata": {
        "execution": {
          "iopub.execute_input": "2023-06-08T08:14:44.615819Z",
          "iopub.status.busy": "2023-06-08T08:14:44.614791Z",
          "iopub.status.idle": "2023-06-08T08:14:45.237601Z",
          "shell.execute_reply": "2023-06-08T08:14:45.237026Z"
        },
        "id": "nR5wWdT6Lkvi",
        "outputId": "0211d70e-513c-445b-a4db-1ab71865a08a"
      },
      "outputs": [
        {
          "data": {
            "image/png": "[encoded data removed]",
            "text/plain": [
              "<Figure size 640x480 with 1 Axes>"
            ]
          },
          "metadata": {},
          "output_type": "display_data"
        }
      ],
      "source": [
        "loss_plot(fc_mean_mi_losses, \"Iterations\", \"Average Train Loss\",\"Fully Connected NN + fixed T=0.25, No. of Augmented Images  = 20/image\")"
      ]
    },
    {
      "cell_type": "code",
      "execution_count": null,
      "metadata": {
        "execution": {
          "iopub.execute_input": "2023-06-08T08:14:45.241640Z",
          "iopub.status.busy": "2023-06-08T08:14:45.240637Z",
          "iopub.status.idle": "2023-06-09T16:32:49.866093Z",
          "shell.execute_reply": "2023-06-09T16:32:49.865296Z"
        },
        "id": "tf4wVYU2oxxL",
        "outputId": "035800a9-ccf8-4e3f-9ae1-adfd136148a1"
      },
      "outputs": [
        {
          "name": "stderr",
          "output_type": "stream",
          "text": [
            "60000it [6:30:28,  2.56it/s]\n"
          ]
        },
        {
          "name": "stdout",
          "output_type": "stream",
          "text": [
            "Epoch [1/5], Average Loss: 0.9637\n"
          ]
        },
        {
          "name": "stderr",
          "output_type": "stream",
          "text": [
            "60000it [6:26:00,  2.59it/s]\n"
          ]
        },
        {
          "name": "stdout",
          "output_type": "stream",
          "text": [
            "Epoch [2/5], Average Loss: 0.9686\n"
          ]
        },
        {
          "name": "stderr",
          "output_type": "stream",
          "text": [
            "60000it [6:26:12,  2.59it/s]\n"
          ]
        },
        {
          "name": "stdout",
          "output_type": "stream",
          "text": [
            "Epoch [3/5], Average Loss: 0.9716\n"
          ]
        },
        {
          "name": "stderr",
          "output_type": "stream",
          "text": [
            "60000it [6:28:01,  2.58it/s]\n"
          ]
        },
        {
          "name": "stdout",
          "output_type": "stream",
          "text": [
            "Epoch [4/5], Average Loss: 0.9780\n"
          ]
        },
        {
          "name": "stderr",
          "output_type": "stream",
          "text": [
            "60000it [6:27:21,  2.58it/s]"
          ]
        },
        {
          "name": "stdout",
          "output_type": "stream",
          "text": [
            "Epoch [5/5], Average Loss: 0.9770\n"
          ]
        },
        {
          "name": "stderr",
          "output_type": "stream",
          "text": [
            "\n"
          ]
        }
      ],
      "source": [
        "bayes_aug_losses = model_trainer_incorporating_DA(bayes_aug_model, bayes_aug_criterion, bayes_aug_optimizer, kl_weight=1, kl_loss=kl_loss_aug, CPE=False, HPE=False, fixed_T=False, bayesian=True, number_of_augmentations=20)"
      ]
    },
    {
      "cell_type": "code",
      "execution_count": null,
      "metadata": {
        "execution": {
          "iopub.execute_input": "2023-06-09T16:32:49.870902Z",
          "iopub.status.busy": "2023-06-09T16:32:49.869888Z",
          "iopub.status.idle": "2023-06-09T16:32:50.432684Z",
          "shell.execute_reply": "2023-06-09T16:32:50.431463Z"
        },
        "id": "ZbjAYhSVpEZQ",
        "outputId": "dcf5e69d-c2bb-4768-8471-2f8bc2486dee"
      },
      "outputs": [
        {
          "data": {
            "image/png": "[encoded data removed]",
            "text/plain": [
              "<Figure size 640x480 with 1 Axes>"
            ]
          },
          "metadata": {},
          "output_type": "display_data"
        }
      ],
      "source": [
        "loss_plot(bayes_aug_losses, \"Iterations\", \"Average Train Loss\",\"Bayesian FC NN, No. of Augmented Images  = 20/image\")"
      ]
    },
    {
      "cell_type": "markdown",
      "metadata": {
        "id": "pyNCNgFL4m9x"
      },
      "source": [
        "## Test the Models"
      ]
    },
    {
      "cell_type": "markdown",
      "metadata": {
        "id": "NLfB8WTMrvRU"
      },
      "source": [
        "### Test With Clean Images"
      ]
    },
    {
      "cell_type": "code",
      "execution_count": null,
      "metadata": {
        "execution": {
          "iopub.execute_input": "2023-06-09T16:32:50.439198Z",
          "iopub.status.busy": "2023-06-09T16:32:50.438735Z",
          "iopub.status.idle": "2023-06-09T16:32:54.604379Z",
          "shell.execute_reply": "2023-06-09T16:32:54.603811Z"
        },
        "id": "PQW9hFcqNB-D",
        "outputId": "3f4b0c9e-5206-4927-f2a7-ad1d9aabd4ae"
      },
      "outputs": [
        {
          "name": "stdout",
          "output_type": "stream",
          "text": [
            "Accuracy of the FullyConnected_mean_mi network on the 10000 test images: 93.01 %\n"
          ]
        }
      ],
      "source": [
        "model_tester(fc_mean_mi_model, \"FullyConnected_mean_mi\")"
      ]
    },
    {
      "cell_type": "code",
      "execution_count": null,
      "metadata": {
        "execution": {
          "iopub.execute_input": "2023-06-09T16:32:54.608270Z",
          "iopub.status.busy": "2023-06-09T16:32:54.607328Z",
          "iopub.status.idle": "2023-06-09T16:33:34.359128Z",
          "shell.execute_reply": "2023-06-09T16:33:34.358337Z"
        },
        "id": "tZl00SFC5Ozm",
        "outputId": "b47f8896-b876-40d3-f19a-fdf98545d9ee"
      },
      "outputs": [
        {
          "name": "stdout",
          "output_type": "stream",
          "text": [
            "Accuracy of the Bayesian_FC_Aug network on the 10000 test images: 74.15 %\n"
          ]
        }
      ],
      "source": [
        "model_tester(bayes_aug_model, \"Bayesian_FC_Aug\")"
      ]
    },
    {
      "cell_type": "markdown",
      "metadata": {
        "id": "QcKMCtTAsJsH"
      },
      "source": [
        "### Test With Augmentes Images"
      ]
    },
    {
      "cell_type": "code",
      "execution_count": null,
      "metadata": {
        "execution": {
          "iopub.execute_input": "2023-06-09T16:33:34.363707Z",
          "iopub.status.busy": "2023-06-09T16:33:34.362702Z",
          "iopub.status.idle": "2023-06-09T16:33:34.369437Z",
          "shell.execute_reply": "2023-06-09T16:33:34.368898Z"
        },
        "id": "sy7BwA-ws-dk"
      },
      "outputs": [],
      "source": [
        "# Test with just Augmented Images;\n",
        "# In the test phase, don't need to compute gradients (for memory efficiency)\n",
        "def model_tester_augmentes_images(model, name):\n",
        "  with torch.no_grad():\n",
        "      correct = 0\n",
        "      total = 0\n",
        "      for images, labels in test_loader:\n",
        "          aug_img, _ = augmented_data_producer(images.reshape(1, 28, 28), 10)\n",
        "          image = aug_img[random.randint(1, 9)].reshape(-1, 28*28).to(device)\n",
        "          label = labels.to(device)\n",
        "          outputs = model(image)\n",
        "          _, predicted = torch.max(outputs.data, 1)\n",
        "          total += label.size(0)\n",
        "          correct += (predicted == label).sum().item()\n",
        "\n",
        "      print('Accuracy of the ' + name + ' network on the 10000 test images: {} %'.format(100 * correct / total))\n",
        "\n",
        "  # Save the model checkpoint\n",
        "  # torch.save(model.state_dict(), str(name+'.ckpt'))"
      ]
    },
    {
      "cell_type": "code",
      "execution_count": null,
      "metadata": {
        "execution": {
          "iopub.execute_input": "2023-06-09T16:33:34.373199Z",
          "iopub.status.busy": "2023-06-09T16:33:34.372237Z",
          "iopub.status.idle": "2023-06-09T16:36:06.239615Z",
          "shell.execute_reply": "2023-06-09T16:36:06.238832Z"
        },
        "id": "PK0fnlHLNjB_",
        "outputId": "8b5cf6b3-6f83-40c8-8286-b85101478fc8"
      },
      "outputs": [
        {
          "name": "stdout",
          "output_type": "stream",
          "text": [
            "Accuracy of the FullyConnected_mean_mi network on the 10000 test images: 86.43 %\n"
          ]
        }
      ],
      "source": [
        "model_tester_augmentes_images(fc_mean_mi_model, \"FullyConnected_mean_mi\")"
      ]
    },
    {
      "cell_type": "code",
      "execution_count": null,
      "metadata": {
        "execution": {
          "iopub.execute_input": "2023-06-09T16:36:06.244113Z",
          "iopub.status.busy": "2023-06-09T16:36:06.243085Z",
          "iopub.status.idle": "2023-06-09T16:39:18.099271Z",
          "shell.execute_reply": "2023-06-09T16:39:18.098449Z"
        },
        "id": "uStoH7kSxIKw",
        "outputId": "ab9f67e0-342e-453c-942e-ae6da993adde"
      },
      "outputs": [
        {
          "name": "stdout",
          "output_type": "stream",
          "text": [
            "Accuracy of the Bayesian_FC_Aug network on the 10000 test images: 66.06 %\n"
          ]
        }
      ],
      "source": [
        "model_tester_augmentes_images(bayes_aug_model, \"Bayesian_FC_Aug\")"
      ]
    }
  ],
  "metadata": {
    "colab": {
      "provenance": []
    },
    "kernelspec": {
      "display_name": "Python 3 (ipykernel)",
      "language": "python",
      "name": "python3"
    },
    "language_info": {
      "codemirror_mode": {
        "name": "ipython",
        "version": 3
      },
      "file_extension": ".py",
      "mimetype": "text/x-python",
      "name": "python",
      "nbconvert_exporter": "python",
      "pygments_lexer": "ipython3",
      "version": "3.10.8"
    },
    "widgets": {
      "application/vnd.jupyter.widget-state+json": {}
    }
  },
  "nbformat": 4,
  "nbformat_minor": 0
}